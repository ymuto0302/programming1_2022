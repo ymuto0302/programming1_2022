{
  "cells": [
    {
      "cell_type": "markdown",
      "metadata": {
        "id": "view-in-github",
        "colab_type": "text"
      },
      "source": [
        "<a href=\"https://colab.research.google.com/github/ymuto0302/programming1_2022/blob/main/12_%E6%96%87%E5%AD%97%E5%88%97%E3%81%AE%E3%83%A1%E3%82%BD%E3%83%83%E3%83%89.ipynb\" target=\"_parent\"><img src=\"https://colab.research.google.com/assets/colab-badge.svg\" alt=\"Open In Colab\"/></a>"
      ]
    },
    {
      "cell_type": "markdown",
      "metadata": {
        "id": "G2YQDAVGFVoJ"
      },
      "source": [
        "# 【解説】12_文字列のメソッド\n"
      ]
    },
    {
      "cell_type": "markdown",
      "source": [
        "予め alice_doc を定義しておく。"
      ],
      "metadata": {
        "id": "lknFi0ijYaj9"
      }
    },
    {
      "cell_type": "code",
      "source": [
        "alice_doc = [\"Alice was beginning to get very tired of sitting by her sister on the bank, and of having nothing to do: once or twice she had peeped into the book her sister was reading, but it had no pictures or conversations in it, 'and what is the use of a book,' thought Alice 'without pictures or conversation?'\",\n",
        "\t\"So she was considering in her own mind (as well as she could, for the hot day made her feel very sleepy and stupid), whether the pleasure of making a daisy-chain would be worth the trouble of getting up and picking the daisies, when suddenly a White Rabbit with pink eyes ran close by her.\",\n",
        "\t\"There was nothing so VERY remarkable in that; nor did Alice think it so VERY much out of the way to hear the Rabbit say to itself, 'Oh dear! Oh dear! I shall be late!' (when she thought it over afterwards, it occurred to her that she ought to have wondered at this, but at the time it all seemed quite natural); but when the Rabbit actually TOOK A WATCH OUT OF ITS WAISTCOAT-POCKET, and looked at it, and then hurried on, Alice started to her feet, for it flashed across her mind that she had never before seen a rabbit with either a waistcoat-pocket, or a watch to take out of it, and burning with curiosity, she ran across the field after it, and fortunately was just in time to see it pop down a large rabbit-hole under the hedge.\",\n",
        "\t\"In another moment down went Alice after it, never once considering how in the world she was to get out again.\",\n",
        "\t\"The rabbit-hole went straight on like a tunnel for some way, and then dipped suddenly down, so suddenly that Alice had not a moment to think about stopping herself before she found herself falling down a very deep well.\"]"
      ],
      "metadata": {
        "id": "M6P9TGxUYW6D"
      },
      "execution_count": null,
      "outputs": []
    },
    {
      "cell_type": "markdown",
      "metadata": {
        "id": "uz3CbxWVFVoc"
      },
      "source": [
        "---\n",
        "## 【課題1】このリストに含まれる文の数を数えよ。"
      ]
    },
    {
      "cell_type": "code",
      "execution_count": null,
      "metadata": {
        "scrolled": true,
        "id": "UFNnkRT-FVoh",
        "outputId": "10502f4e-a11f-4a1b-9730-dd6b5f0e3202",
        "colab": {
          "base_uri": "https://localhost:8080/"
        }
      },
      "outputs": [
        {
          "output_type": "stream",
          "name": "stdout",
          "text": [
            "5\n"
          ]
        }
      ],
      "source": [
        "print(len(alice_doc))"
      ]
    },
    {
      "cell_type": "markdown",
      "source": [
        "(解説) 各文は，リストに含まれる要素と解釈されるから，`len()`関数を用いて要素数を数えればよい。"
      ],
      "metadata": {
        "id": "8lowEbL2P_Cg"
      }
    },
    {
      "cell_type": "markdown",
      "metadata": {
        "id": "yLB9G52wFVor"
      },
      "source": [
        "---\n",
        "## 【課題2】この文章を全て大文字化して表示せよ。"
      ]
    },
    {
      "cell_type": "code",
      "execution_count": null,
      "metadata": {
        "scrolled": false,
        "id": "g01xNGyNFVov",
        "outputId": "1cfd5599-d18f-4e63-e419-24499cca6a41",
        "colab": {
          "base_uri": "https://localhost:8080/"
        }
      },
      "outputs": [
        {
          "output_type": "stream",
          "name": "stdout",
          "text": [
            "ALICE WAS BEGINNING TO GET VERY TIRED OF SITTING BY HER SISTER ON THE BANK, AND OF HAVING NOTHING TO DO: ONCE OR TWICE SHE HAD PEEPED INTO THE BOOK HER SISTER WAS READING, BUT IT HAD NO PICTURES OR CONVERSATIONS IN IT, 'AND WHAT IS THE USE OF A BOOK,' THOUGHT ALICE 'WITHOUT PICTURES OR CONVERSATION?'\n",
            "SO SHE WAS CONSIDERING IN HER OWN MIND (AS WELL AS SHE COULD, FOR THE HOT DAY MADE HER FEEL VERY SLEEPY AND STUPID), WHETHER THE PLEASURE OF MAKING A DAISY-CHAIN WOULD BE WORTH THE TROUBLE OF GETTING UP AND PICKING THE DAISIES, WHEN SUDDENLY A WHITE RABBIT WITH PINK EYES RAN CLOSE BY HER.\n",
            "THERE WAS NOTHING SO VERY REMARKABLE IN THAT; NOR DID ALICE THINK IT SO VERY MUCH OUT OF THE WAY TO HEAR THE RABBIT SAY TO ITSELF, 'OH DEAR! OH DEAR! I SHALL BE LATE!' (WHEN SHE THOUGHT IT OVER AFTERWARDS, IT OCCURRED TO HER THAT SHE OUGHT TO HAVE WONDERED AT THIS, BUT AT THE TIME IT ALL SEEMED QUITE NATURAL); BUT WHEN THE RABBIT ACTUALLY TOOK A WATCH OUT OF ITS WAISTCOAT-POCKET, AND LOOKED AT IT, AND THEN HURRIED ON, ALICE STARTED TO HER FEET, FOR IT FLASHED ACROSS HER MIND THAT SHE HAD NEVER BEFORE SEEN A RABBIT WITH EITHER A WAISTCOAT-POCKET, OR A WATCH TO TAKE OUT OF IT, AND BURNING WITH CURIOSITY, SHE RAN ACROSS THE FIELD AFTER IT, AND FORTUNATELY WAS JUST IN TIME TO SEE IT POP DOWN A LARGE RABBIT-HOLE UNDER THE HEDGE.\n",
            "IN ANOTHER MOMENT DOWN WENT ALICE AFTER IT, NEVER ONCE CONSIDERING HOW IN THE WORLD SHE WAS TO GET OUT AGAIN.\n",
            "THE RABBIT-HOLE WENT STRAIGHT ON LIKE A TUNNEL FOR SOME WAY, AND THEN DIPPED SUDDENLY DOWN, SO SUDDENLY THAT ALICE HAD NOT A MOMENT TO THINK ABOUT STOPPING HERSELF BEFORE SHE FOUND HERSELF FALLING DOWN A VERY DEEP WELL.\n"
          ]
        }
      ],
      "source": [
        "for sentence in alice_doc:\n",
        "    print(sentence.upper())"
      ]
    },
    {
      "cell_type": "markdown",
      "source": [
        "(解説) `for`文により `alice_doc` 内の各文を順次，取り出し，`upper()`メソッドを適用する。"
      ],
      "metadata": {
        "id": "uP1eC0ezbXkh"
      }
    },
    {
      "cell_type": "markdown",
      "metadata": {
        "id": "47FQtAPbFVo3"
      },
      "source": [
        "---\n",
        "## 【課題3】この文章に \"Alice\" が何個，含まれるか，数えよ。"
      ]
    },
    {
      "cell_type": "code",
      "execution_count": null,
      "metadata": {
        "id": "c51T7dsLFVo7",
        "outputId": "57069742-e608-47df-934a-7872868ca590",
        "colab": {
          "base_uri": "https://localhost:8080/"
        }
      },
      "outputs": [
        {
          "output_type": "stream",
          "name": "stdout",
          "text": [
            "Alice の個数は6\n"
          ]
        }
      ],
      "source": [
        "alice_count = 0\n",
        "for sentence in alice_doc:\n",
        "    c = sentence.count(\"Alice\") # 各文に含まれる \"Alice\" の個数を数える\n",
        "    alice_count += c\n",
        "\n",
        "print(\"Alice の個数は{}\".format(alice_count))\n",
        "    "
      ]
    },
    {
      "cell_type": "markdown",
      "source": [
        "(解説) `for`文の中で，各文に含まれる \"Alice\" の個数を数えるには `count()`メソッドを用いる。\n",
        "\n",
        "一方，文章全体で何個の \"Alice\" が含まれるか，が問われているから，各文の \"Alice\" の個数を積み上げる変数として `alice_count` を準備する。これに「各文に現れる \"Alice\" の個数」を足し込む。"
      ],
      "metadata": {
        "id": "mhmaRXXlc9tB"
      }
    },
    {
      "cell_type": "markdown",
      "metadata": {
        "id": "zDQBj8JfFVo-"
      },
      "source": [
        "---\n",
        "## 【課題4】 この文章に含まれる \"Alice\" を \"自分の名前\" に置き換えて，表示せよ。"
      ]
    },
    {
      "cell_type": "code",
      "execution_count": null,
      "metadata": {
        "id": "f8_9xy35FVpC",
        "outputId": "02a885ec-7c17-438e-a202-4d245699c41e",
        "colab": {
          "base_uri": "https://localhost:8080/"
        }
      },
      "outputs": [
        {
          "output_type": "stream",
          "name": "stdout",
          "text": [
            "武藤 was beginning to get very tired of sitting by her sister on the bank, and of having nothing to do: once or twice she had peeped into the book her sister was reading, but it had no pictures or conversations in it, 'and what is the use of a book,' thought 武藤 'without pictures or conversation?'\n",
            "So she was considering in her own mind (as well as she could, for the hot day made her feel very sleepy and stupid), whether the pleasure of making a daisy-chain would be worth the trouble of getting up and picking the daisies, when suddenly a White Rabbit with pink eyes ran close by her.\n",
            "There was nothing so VERY remarkable in that; nor did 武藤 think it so VERY much out of the way to hear the Rabbit say to itself, 'Oh dear! Oh dear! I shall be late!' (when she thought it over afterwards, it occurred to her that she ought to have wondered at this, but at the time it all seemed quite natural); but when the Rabbit actually TOOK A WATCH OUT OF ITS WAISTCOAT-POCKET, and looked at it, and then hurried on, 武藤 started to her feet, for it flashed across her mind that she had never before seen a rabbit with either a waistcoat-pocket, or a watch to take out of it, and burning with curiosity, she ran across the field after it, and fortunately was just in time to see it pop down a large rabbit-hole under the hedge.\n",
            "In another moment down went 武藤 after it, never once considering how in the world she was to get out again.\n",
            "The rabbit-hole went straight on like a tunnel for some way, and then dipped suddenly down, so suddenly that 武藤 had not a moment to think about stopping herself before she found herself falling down a very deep well.\n"
          ]
        }
      ],
      "source": [
        "for sentence in alice_doc:\n",
        "    print(sentence.replace(\"Alice\", \"武藤\"))"
      ]
    },
    {
      "cell_type": "markdown",
      "source": [
        "(解説) `for`文で１文ずつ取り出し，それに `replace()` メソッドを適用する。"
      ],
      "metadata": {
        "id": "RLdCsyfFdMIJ"
      }
    }
  ],
  "metadata": {
    "kernelspec": {
      "display_name": "Python 3",
      "language": "python",
      "name": "python3"
    },
    "language_info": {
      "codemirror_mode": {
        "name": "ipython",
        "version": 3
      },
      "file_extension": ".py",
      "mimetype": "text/x-python",
      "name": "python",
      "nbconvert_exporter": "python",
      "pygments_lexer": "ipython3",
      "version": "3.8.5"
    },
    "colab": {
      "name": "12_文字列のメソッド.ipynb",
      "provenance": [],
      "collapsed_sections": [],
      "include_colab_link": true
    }
  },
  "nbformat": 4,
  "nbformat_minor": 0
}
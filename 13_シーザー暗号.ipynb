{
  "cells": [
    {
      "cell_type": "markdown",
      "metadata": {
        "id": "view-in-github",
        "colab_type": "text"
      },
      "source": [
        "<a href=\"https://colab.research.google.com/github/ymuto0302/programming1_2022/blob/main/13_%E3%82%B7%E3%83%BC%E3%82%B6%E3%83%BC%E6%9A%97%E5%8F%B7.ipynb\" target=\"_parent\"><img src=\"https://colab.research.google.com/assets/colab-badge.svg\" alt=\"Open In Colab\"/></a>"
      ]
    },
    {
      "cell_type": "markdown",
      "metadata": {
        "id": "G2YQDAVGFVoJ"
      },
      "source": [
        "# 【解説】13_シーザー暗号"
      ]
    },
    {
      "cell_type": "markdown",
      "source": [
        "シーザー暗号の課題は次の３バージョンが存在する。\n",
        "- 基本となる課題：１文字だけシフトする／平文にスペースを含まない\n",
        "- extra：１文字だけシフトする／平文にスペースを含むのも可。ただし，スペースは変換しない\n",
        "- extra の extra：任意の文字数，シフトする／平文にスペースを含むのも可。ただし，スペースは変換しない\n",
        "\n",
        "なお，以下では「文字列の入力 ＆ 大文字化」を省略し，`plain = \"ABC\"` という形で固定文字列としている。  \n",
        "文字列の入力 ＆ 大文字化は，次のコードで可能である。"
      ],
      "metadata": {
        "id": "qnL_hhsewBR8"
      }
    },
    {
      "cell_type": "code",
      "source": [
        "s = input(\"アルファベットから構成される文字列を入力：\")\n",
        "plain = s.upper()\n",
        "\n",
        "print(plain) # 挙動確認のための出力"
      ],
      "metadata": {
        "colab": {
          "base_uri": "https://localhost:8080/"
        },
        "id": "yjMLiU8gxNa8",
        "outputId": "4654ed6a-6009-4586-fac6-1c527c132dee"
      },
      "execution_count": 6,
      "outputs": [
        {
          "output_type": "stream",
          "name": "stdout",
          "text": [
            "アルファベットから構成される文字列を入力：abc xyz\n",
            "ABC XYZ\n"
          ]
        }
      ]
    },
    {
      "cell_type": "markdown",
      "source": [
        "---\n",
        "## １文字だけシフトするバージョン"
      ],
      "metadata": {
        "id": "OFZSgPHjv7Pc"
      }
    },
    {
      "cell_type": "code",
      "source": [
        "plain = \"ABZ\" # 平文\n",
        "\n",
        "cipher = \"\" # 暗号文を格納するための文字列\n",
        "for ch in plain:\n",
        "    tmp1 = ord(ch) - ord('A') # 文字 A に対応するアスキーコード 65 を 0 へシフト。他の文字も同様。\n",
        "    tmp2 = tmp1 + 1 # １文字だけシフト\n",
        "    tmp3 = tmp2 % (ord('Z') - ord('A') + 1) # アルファベットの文字数 26 で割ったときの剰余\n",
        "    tmp4 = tmp3 + ord('A') # 本来のアスキーコードへ戻す\n",
        "    slide_ch = chr(tmp4) # アスキーコードから文字へ変換\n",
        "\n",
        "    cipher += slide_ch # 変換後の文字を暗号文に追加\n",
        "\n",
        "print(cipher)"
      ],
      "metadata": {
        "colab": {
          "base_uri": "https://localhost:8080/"
        },
        "id": "MqGk7bAovN85",
        "outputId": "eaf1adba-73d7-4769-b8ee-de7af320b33f"
      },
      "execution_count": 1,
      "outputs": [
        {
          "output_type": "stream",
          "name": "stdout",
          "text": [
            "BCA\n"
          ]
        }
      ]
    },
    {
      "cell_type": "markdown",
      "source": [
        "(解説) アルファベット大文字は ASCII コードにより次のように定義されている。すなわち，文字は内部的に数値である。\n",
        "\n",
        "|アルファベット|10進数|\n",
        "|:---:|:----:|\n",
        "|A|65|\n",
        "|B|66|\n",
        "|C|67|\n",
        "|・・・|・・・|\n",
        "|Y|89|\n",
        "|Z|90|\n",
        "\n",
        "例えば文字列 \"ABC\" は「65, 66, 67」という数値の並びである。\n",
        "\n",
        "また，アルファベットは（大文字に限れば）26種類である点にも注意する。\n",
        "\n",
        "上記のコードでは，次の手順をとっている。\n",
        "1. 最初に \"A\"～\"Z\" に「0～25」が当たるよう，調整している。これにより文字列 \"ABC\" は「0, 1, 2」という数値の並びとなる。\n",
        "1. １文字シフトするため，ASCII コードに１を足す。これにより「0, 1, 2」という並びは「1, 2, 3」へ変換される。\n",
        "1. ここで問題が発生する。\"Z\" の ASCII コードは 90 であり，冒頭の調整により 25 に置き換えられている。これに 1 を加えると 26 となり，『\"A\"～\"Z\" に「0～25」が当たる』というルールをはみ出す。ここで \"Z\" は 0 に変化して欲しい。  \n",
        "そこで，得られた値（＝ここでは 26）に対して「26で割った剰余」を割り当てる。\n",
        "1. 最後に，元の ASCII コードへ戻し，`chr()` 関数により文字表現を得る。\n",
        "\n",
        "上記で分かりにくいのは 3. のステップだろう。\n",
        "\n",
        "ここで３文字シフトする場合を考えよう。上記のステップを文字列 \"ABXYZ\" に当てはめた場合の値の変化を下表に示す。\n",
        "\n",
        "|変換前の文字|ASCIIコード|0～25を割り当てる|３文字シフト|26で割った剰余|ASCIIコードへ戻す|変換後の文字|\n",
        "|:---:|:----:|:---:|:---:|:---:|:---:|:---:|\n",
        "|A|65|0|3|3|68|D|\n",
        "|B|66|1|4|4|69|E|\n",
        "|X|88|23|26|0|65|A|\n",
        "|Y|89|24|27|1|66|B|\n",
        "|Z|90|25|28|2|67|C|\n"
      ],
      "metadata": {
        "id": "UsfEabHExnk-"
      }
    },
    {
      "cell_type": "markdown",
      "source": [
        "---\n",
        "## 「１文字だけシフトする／平文にスペースを含むのも可」のバージョン"
      ],
      "metadata": {
        "id": "RBTIvpNcvNuI"
      }
    },
    {
      "cell_type": "code",
      "source": [
        "plain = \"AB CD YZ\" # 平文\n",
        "\n",
        "cipher = \"\" # 暗号文を格納するための文字列\n",
        "for ch in plain:\n",
        "    if ch == ' ':\n",
        "        slide_ch = ' '\n",
        "    else:\n",
        "        tmp1 = ord(ch) - ord('A') # 文字 A に対応するアスキーコード 65 を 0 へシフト。他の文字も同様。\n",
        "        tmp2 = tmp1 + 1 # １文字だけシフト\n",
        "        tmp3 = tmp2 % (ord('Z') - ord('A') + 1) # アルファベットの文字数 26 で割ったときの剰余\n",
        "        tmp4 = tmp3 + ord('A') # 本来のアスキーコードへ戻す\n",
        "        slide_ch = chr(tmp4) # アスキーコードから文字へ変換\n",
        "\n",
        "    cipher += slide_ch # 変換後の文字を暗号文に追加\n",
        "\n",
        "print(cipher)"
      ],
      "metadata": {
        "colab": {
          "base_uri": "https://localhost:8080/"
        },
        "id": "OYb_v6mxvcJ0",
        "outputId": "7326fdc4-1a44-4c6b-d993-0493430593f2"
      },
      "execution_count": 3,
      "outputs": [
        {
          "output_type": "stream",
          "name": "stdout",
          "text": [
            "BC DE ZA\n"
          ]
        }
      ]
    },
    {
      "cell_type": "markdown",
      "source": [
        "(解説) 「スペースは変換しない」というルールだから，`ch == ' ' ` の場合のみ特別枠とする。スペースでない場合，上記のコードを用いる。"
      ],
      "metadata": {
        "id": "wcGq_4Lz2Wp9"
      }
    },
    {
      "cell_type": "markdown",
      "source": [
        "---\n",
        "## 「任意の文字数，シフトする／平文にスペースを含むのも可」のバージョン"
      ],
      "metadata": {
        "id": "zlpTbIlJvNpO"
      }
    },
    {
      "cell_type": "code",
      "source": [
        "plain = \"AB CD YZ\" # 平文\n",
        "shift = 5 # シフト量\n",
        "\n",
        "cipher = \"\" # 暗号文を格納するための文字列\n",
        "for ch in plain:\n",
        "    if ch == ' ':\n",
        "        slide_ch = ' '\n",
        "    else:\n",
        "        tmp1 = ord(ch) - ord('A') # 文字 A に対応するアスキーコード 65 を 0 へシフト。他の文字も同様。\n",
        "        tmp2 = tmp1 + shift # shift 文字だけシフト\n",
        "        tmp3 = tmp2 % (ord('Z') - ord('A') + 1) # アルファベットの文字数 26 で割ったときの剰余\n",
        "        tmp4 = tmp3 + ord('A') # 本来のアスキーコードへ戻す\n",
        "        slide_ch = chr(tmp4) # アスキーコードから文字へ変換\n",
        "\n",
        "    cipher += slide_ch # 変換後の文字を暗号文に追加\n",
        "\n",
        "print(cipher)"
      ],
      "metadata": {
        "colab": {
          "base_uri": "https://localhost:8080/"
        },
        "id": "j3fW015uu8aH",
        "outputId": "9bd54ff1-c283-48dd-a05a-d3a3b45a260f"
      },
      "execution_count": 5,
      "outputs": [
        {
          "output_type": "stream",
          "name": "stdout",
          "text": [
            "FG HI DE\n"
          ]
        }
      ]
    },
    {
      "cell_type": "markdown",
      "source": [
        "(解説) 任意のシフト量を実現するためには\n",
        "```\n",
        "tmp2 = tmp1 + 1\n",
        "```\n",
        "の行を次のように変更すればよい。\n",
        "```\n",
        "tmp2 = tmp1 + shift\n",
        "```\n",
        "\n",
        "他に変更すべき箇所はない。\n",
        "\n"
      ],
      "metadata": {
        "id": "1qwempc42nix"
      }
    }
  ],
  "metadata": {
    "kernelspec": {
      "display_name": "Python 3",
      "language": "python",
      "name": "python3"
    },
    "language_info": {
      "codemirror_mode": {
        "name": "ipython",
        "version": 3
      },
      "file_extension": ".py",
      "mimetype": "text/x-python",
      "name": "python",
      "nbconvert_exporter": "python",
      "pygments_lexer": "ipython3",
      "version": "3.8.5"
    },
    "colab": {
      "name": "13_シーザー暗号.ipynb",
      "provenance": [],
      "collapsed_sections": [],
      "include_colab_link": true
    }
  },
  "nbformat": 4,
  "nbformat_minor": 0
}
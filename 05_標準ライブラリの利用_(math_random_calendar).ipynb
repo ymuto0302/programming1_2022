{
  "cells": [
    {
      "cell_type": "markdown",
      "metadata": {
        "id": "view-in-github",
        "colab_type": "text"
      },
      "source": [
        "<a href=\"https://colab.research.google.com/github/ymuto0302/programming1_2022/blob/main/05_%E6%A8%99%E6%BA%96%E3%83%A9%E3%82%A4%E3%83%96%E3%83%A9%E3%83%AA%E3%81%AE%E5%88%A9%E7%94%A8_(math_random_calendar).ipynb\" target=\"_parent\"><img src=\"https://colab.research.google.com/assets/colab-badge.svg\" alt=\"Open In Colab\"/></a>"
      ]
    },
    {
      "cell_type": "markdown",
      "metadata": {
        "id": "8na8Hy2HC9va"
      },
      "source": [
        "# 【解説】05_標準ライブラリの利用 (math / random / calendar)"
      ]
    },
    {
      "cell_type": "markdown",
      "metadata": {
        "id": "6Yj0P-EsC9vd"
      },
      "source": [
        "---\n",
        "##【課題1】円の半径を入力させ，その面積および円周の長さを求めるコードを書け。​"
      ]
    },
    {
      "cell_type": "code",
      "execution_count": 3,
      "metadata": {
        "id": "QM-fHGt2C9ve",
        "outputId": "fe9e5ad9-1ef5-4920-9683-753499b56582",
        "colab": {
          "base_uri": "https://localhost:8080/"
        }
      },
      "outputs": [
        {
          "output_type": "stream",
          "name": "stdout",
          "text": [
            "円の半径を入力：2.5\n",
            "半径2.5の円の面積：19.634954084936208\n",
            "半径2.5の円の円周の長さ：15.707963267948966\n"
          ]
        }
      ],
      "source": [
        "import math\n",
        "\n",
        "r = float(input(\"円の半径を入力：\"))\n",
        "\n",
        "# 面積と円周の長さの計算\n",
        "menseki = math.pi * (r ** 2)\n",
        "ensyuu = 2 * math.pi * r\n",
        "\n",
        "print(\"半径{}の円の面積：{}\".format(r, menseki))\n",
        "print(\"半径{}の円の円周の長さ：{}\".format(r, ensyuu))\n"
      ]
    },
    {
      "cell_type": "markdown",
      "source": [
        "（解説）円の面積および円周の長さの公式をそのまま Python 言語へ落とし込めば OK です。\n",
        "\n",
        "ちなみに，以下のとおり「半径の２乗」に `math.pow()` を用いる手もあります。"
      ],
      "metadata": {
        "id": "P6pBwBhFnDEj"
      }
    },
    {
      "cell_type": "code",
      "source": [
        "import math\n",
        "r = 2.5 # 半径の入力は本質的でないから，ここでは固定値を与える\n",
        "menseki = math.pi * math.pow(r, 2)\n",
        "print(\"半径{}の円の面積：{}\".format(r, menseki))"
      ],
      "metadata": {
        "colab": {
          "base_uri": "https://localhost:8080/"
        },
        "id": "MblJD5MDnCxl",
        "outputId": "d715efda-ef70-491d-c757-b72424aafa7b"
      },
      "execution_count": 7,
      "outputs": [
        {
          "output_type": "stream",
          "name": "stdout",
          "text": [
            "半径2.5の円の面積：19.634954084936208\n"
          ]
        }
      ]
    },
    {
      "cell_type": "markdown",
      "source": [
        "（どうでもよい情報）円の面積と円周を計算してくれるサイトがありました。まさかのカシオ (CASIO) が提供しているとは！\n",
        "\n",
        "https://keisan.casio.jp/exec/system/1161228790"
      ],
      "metadata": {
        "id": "namUcuVkl1zc"
      }
    },
    {
      "cell_type": "markdown",
      "metadata": {
        "id": "F1_I-E_gC9vg"
      },
      "source": [
        "---\n",
        "## 【課題2】三角関数(math.sin, math.cos 等)はラジアンを引数とする。​角度を弧度法で「30」「45」等の形で入力し，​その sin, cos, tan の値を求めるコードを書け。​以下の文字列を表示するprint 文を書け。"
      ]
    },
    {
      "cell_type": "code",
      "source": [
        "import math\n",
        "\n",
        "angle = float(input(\"角度を弧度法で入力：\"))\n",
        "\n",
        "angle = math.radians(angle) # 弧度法からラジアンへ変換\n",
        "\n",
        "print(\"sin の値：{}\".format(math.sin(angle)))\n",
        "print(\"cos の値：{}\".format(math.cos(angle)))\n",
        "print(\"tan の値：{}\".format(math.tan(angle)))"
      ],
      "metadata": {
        "colab": {
          "base_uri": "https://localhost:8080/"
        },
        "id": "svGI7QSRmYCC",
        "outputId": "51133f83-21d5-4e70-df91-bc360f1f3f73"
      },
      "execution_count": 4,
      "outputs": [
        {
          "output_type": "stream",
          "name": "stdout",
          "text": [
            "角度を弧度法で入力：45\n",
            "sin の値：0.7071067811865475\n",
            "cos の値：0.7071067811865476\n",
            "tan の値：0.9999999999999999\n"
          ]
        }
      ]
    },
    {
      "cell_type": "code",
      "source": [
        "# 参考として，sin(π/4)を求めると・・・\n",
        "import math\n",
        "math.sin(math.pi / 4)"
      ],
      "metadata": {
        "colab": {
          "base_uri": "https://localhost:8080/"
        },
        "id": "OTLrGelZm1bF",
        "outputId": "66ed5641-1009-4954-e309-e5a5a80827d3"
      },
      "execution_count": 5,
      "outputs": [
        {
          "output_type": "execute_result",
          "data": {
            "text/plain": [
              "0.7071067811865475"
            ]
          },
          "metadata": {},
          "execution_count": 5
        }
      ]
    },
    {
      "cell_type": "markdown",
      "source": [
        "（解説）上記では「弧度法からラジアンへ変換」するため，`math.radians()` を用いているが，下記のように自力で変換しても問題ありません。"
      ],
      "metadata": {
        "id": "imIxvuZlnph-"
      }
    },
    {
      "cell_type": "code",
      "source": [
        "import math\n",
        "\n",
        "angle = 45\n",
        "angle = math.pi * (angle / 180) # 弧度法からラジアンへ変換\n",
        "\n",
        "print(\"sin の値：{}\".format(math.sin(angle)))\n",
        "print(\"cos の値：{}\".format(math.cos(angle)))\n",
        "print(\"tan の値：{}\".format(math.tan(angle)))"
      ],
      "metadata": {
        "colab": {
          "base_uri": "https://localhost:8080/"
        },
        "id": "5Hfin9A6n30F",
        "outputId": "88321fd8-39cc-497d-ac94-6d4b32e155d7"
      },
      "execution_count": 8,
      "outputs": [
        {
          "output_type": "stream",
          "name": "stdout",
          "text": [
            "sin の値：0.7071067811865475\n",
            "cos の値：0.7071067811865476\n",
            "tan の値：0.9999999999999999\n"
          ]
        }
      ]
    },
    {
      "cell_type": "markdown",
      "metadata": {
        "id": "AQAuhQhoC9vh"
      },
      "source": [
        "---\n",
        "## 【課題3】「乱数を使用したおみくじ」を拡張し，「大吉」「中吉」「小吉」「凶」「大凶」のいずれかが得られるようにせよ。​"
      ]
    },
    {
      "cell_type": "markdown",
      "source": [
        "以下がテキストに掲載されているコード："
      ],
      "metadata": {
        "id": "LOQ7sEkhpWJi"
      }
    },
    {
      "cell_type": "code",
      "execution_count": 9,
      "metadata": {
        "colab": {
          "base_uri": "https://localhost:8080/"
        },
        "id": "cM5eajaMC9vh",
        "outputId": "9bb6b4a2-6a48-413f-c98a-e5ca6467ccb4"
      },
      "outputs": [
        {
          "output_type": "stream",
          "name": "stdout",
          "text": [
            "中吉\n"
          ]
        }
      ],
      "source": [
        "import random\n",
        "\n",
        "kuji = [\"大吉\", \"中吉\", \"凶\"]\n",
        "\n",
        "print(kuji[random.randrange(len(kuji))])"
      ]
    },
    {
      "cell_type": "markdown",
      "source": [
        "課題の要求に合わせて，「大吉〜大凶までの５択」を実現するコード："
      ],
      "metadata": {
        "id": "GdByofe7paIS"
      }
    },
    {
      "cell_type": "code",
      "source": [
        "import random\n",
        "\n",
        "kuji = [\"大吉\", \"中吉\", \"小吉\", \"凶\", \"大凶\"]\n",
        "\n",
        "print(kuji[random.randrange(len(kuji))])"
      ],
      "metadata": {
        "colab": {
          "base_uri": "https://localhost:8080/"
        },
        "id": "pMFPM8nppO4C",
        "outputId": "a8b55e0d-3830-44f3-b3dc-3afce818f0f0"
      },
      "execution_count": 11,
      "outputs": [
        {
          "output_type": "stream",
          "name": "stdout",
          "text": [
            "小吉\n"
          ]
        }
      ]
    },
    {
      "cell_type": "markdown",
      "source": [
        "（解説）`len(kuji)` が「おみくじの結果が何通り，あるか」を表しており，その値は 5 です。\n",
        "また，`random.randin(5)` は 0〜4 のいずれかをランダムに出力するから，リストの添字番号（インデックス）とマッチし，「大吉〜大凶」のいずれかが出力することになります。"
      ],
      "metadata": {
        "id": "JFXMOFmzpmjP"
      }
    },
    {
      "cell_type": "markdown",
      "source": [
        "---\n",
        "## 【課題4】Calendar クラスには「引数に『年』を指定すると，その１年分のカレンダを表示する機能」がある。以下の Web ページから該当のメソッドを見つけ，2021年のカレンダを表示するコードを書け。\n",
        "\n",
        "https://docs.python.org/ja/3/library/calendar.html​\n"
      ],
      "metadata": {
        "id": "830O3Pw3oe5O"
      }
    },
    {
      "cell_type": "markdown",
      "source": [
        "（コード例１）インスタンスを生成しないケース"
      ],
      "metadata": {
        "id": "I05-BUizr89t"
      }
    },
    {
      "cell_type": "code",
      "source": [
        "import calendar\n",
        "\n",
        "calendar.prcal(2021)"
      ],
      "metadata": {
        "colab": {
          "base_uri": "https://localhost:8080/"
        },
        "id": "euPz-YnVqWUv",
        "outputId": "ecd7a516-e972-415b-fe05-a0f46b5d7817"
      },
      "execution_count": 14,
      "outputs": [
        {
          "output_type": "stream",
          "name": "stdout",
          "text": [
            "                                  2021\n",
            "\n",
            "      January                   February                   March\n",
            "Mo Tu We Th Fr Sa Su      Mo Tu We Th Fr Sa Su      Mo Tu We Th Fr Sa Su\n",
            "             1  2  3       1  2  3  4  5  6  7       1  2  3  4  5  6  7\n",
            " 4  5  6  7  8  9 10       8  9 10 11 12 13 14       8  9 10 11 12 13 14\n",
            "11 12 13 14 15 16 17      15 16 17 18 19 20 21      15 16 17 18 19 20 21\n",
            "18 19 20 21 22 23 24      22 23 24 25 26 27 28      22 23 24 25 26 27 28\n",
            "25 26 27 28 29 30 31                                29 30 31\n",
            "\n",
            "       April                      May                       June\n",
            "Mo Tu We Th Fr Sa Su      Mo Tu We Th Fr Sa Su      Mo Tu We Th Fr Sa Su\n",
            "          1  2  3  4                      1  2          1  2  3  4  5  6\n",
            " 5  6  7  8  9 10 11       3  4  5  6  7  8  9       7  8  9 10 11 12 13\n",
            "12 13 14 15 16 17 18      10 11 12 13 14 15 16      14 15 16 17 18 19 20\n",
            "19 20 21 22 23 24 25      17 18 19 20 21 22 23      21 22 23 24 25 26 27\n",
            "26 27 28 29 30            24 25 26 27 28 29 30      28 29 30\n",
            "                          31\n",
            "\n",
            "        July                     August                  September\n",
            "Mo Tu We Th Fr Sa Su      Mo Tu We Th Fr Sa Su      Mo Tu We Th Fr Sa Su\n",
            "          1  2  3  4                         1             1  2  3  4  5\n",
            " 5  6  7  8  9 10 11       2  3  4  5  6  7  8       6  7  8  9 10 11 12\n",
            "12 13 14 15 16 17 18       9 10 11 12 13 14 15      13 14 15 16 17 18 19\n",
            "19 20 21 22 23 24 25      16 17 18 19 20 21 22      20 21 22 23 24 25 26\n",
            "26 27 28 29 30 31         23 24 25 26 27 28 29      27 28 29 30\n",
            "                          30 31\n",
            "\n",
            "      October                   November                  December\n",
            "Mo Tu We Th Fr Sa Su      Mo Tu We Th Fr Sa Su      Mo Tu We Th Fr Sa Su\n",
            "             1  2  3       1  2  3  4  5  6  7             1  2  3  4  5\n",
            " 4  5  6  7  8  9 10       8  9 10 11 12 13 14       6  7  8  9 10 11 12\n",
            "11 12 13 14 15 16 17      15 16 17 18 19 20 21      13 14 15 16 17 18 19\n",
            "18 19 20 21 22 23 24      22 23 24 25 26 27 28      20 21 22 23 24 25 26\n",
            "25 26 27 28 29 30 31      29 30                     27 28 29 30 31\n"
          ]
        }
      ]
    },
    {
      "cell_type": "markdown",
      "source": [
        "（コード例２）インスタンスを生成するケース"
      ],
      "metadata": {
        "id": "dmgzzP-OsDnL"
      }
    },
    {
      "cell_type": "code",
      "source": [
        "import calendar\n",
        "\n",
        "cal = calendar.TextCalendar() # TextCalendar インスタンスの生成\n",
        "cal.pryear(2021)"
      ],
      "metadata": {
        "colab": {
          "base_uri": "https://localhost:8080/"
        },
        "id": "QEc7ugQ8q44J",
        "outputId": "e31fd46e-eee5-430e-f907-54602ff6f551"
      },
      "execution_count": 15,
      "outputs": [
        {
          "output_type": "stream",
          "name": "stdout",
          "text": [
            "                                  2021\n",
            "\n",
            "      January                   February                   March\n",
            "Mo Tu We Th Fr Sa Su      Mo Tu We Th Fr Sa Su      Mo Tu We Th Fr Sa Su\n",
            "             1  2  3       1  2  3  4  5  6  7       1  2  3  4  5  6  7\n",
            " 4  5  6  7  8  9 10       8  9 10 11 12 13 14       8  9 10 11 12 13 14\n",
            "11 12 13 14 15 16 17      15 16 17 18 19 20 21      15 16 17 18 19 20 21\n",
            "18 19 20 21 22 23 24      22 23 24 25 26 27 28      22 23 24 25 26 27 28\n",
            "25 26 27 28 29 30 31                                29 30 31\n",
            "\n",
            "       April                      May                       June\n",
            "Mo Tu We Th Fr Sa Su      Mo Tu We Th Fr Sa Su      Mo Tu We Th Fr Sa Su\n",
            "          1  2  3  4                      1  2          1  2  3  4  5  6\n",
            " 5  6  7  8  9 10 11       3  4  5  6  7  8  9       7  8  9 10 11 12 13\n",
            "12 13 14 15 16 17 18      10 11 12 13 14 15 16      14 15 16 17 18 19 20\n",
            "19 20 21 22 23 24 25      17 18 19 20 21 22 23      21 22 23 24 25 26 27\n",
            "26 27 28 29 30            24 25 26 27 28 29 30      28 29 30\n",
            "                          31\n",
            "\n",
            "        July                     August                  September\n",
            "Mo Tu We Th Fr Sa Su      Mo Tu We Th Fr Sa Su      Mo Tu We Th Fr Sa Su\n",
            "          1  2  3  4                         1             1  2  3  4  5\n",
            " 5  6  7  8  9 10 11       2  3  4  5  6  7  8       6  7  8  9 10 11 12\n",
            "12 13 14 15 16 17 18       9 10 11 12 13 14 15      13 14 15 16 17 18 19\n",
            "19 20 21 22 23 24 25      16 17 18 19 20 21 22      20 21 22 23 24 25 26\n",
            "26 27 28 29 30 31         23 24 25 26 27 28 29      27 28 29 30\n",
            "                          30 31\n",
            "\n",
            "      October                   November                  December\n",
            "Mo Tu We Th Fr Sa Su      Mo Tu We Th Fr Sa Su      Mo Tu We Th Fr Sa Su\n",
            "             1  2  3       1  2  3  4  5  6  7             1  2  3  4  5\n",
            " 4  5  6  7  8  9 10       8  9 10 11 12 13 14       6  7  8  9 10 11 12\n",
            "11 12 13 14 15 16 17      15 16 17 18 19 20 21      13 14 15 16 17 18 19\n",
            "18 19 20 21 22 23 24      22 23 24 25 26 27 28      20 21 22 23 24 25 26\n",
            "25 26 27 28 29 30 31      29 30                     27 28 29 30 31\n"
          ]
        }
      ]
    },
    {
      "cell_type": "code",
      "source": [
        ""
      ],
      "metadata": {
        "id": "vLKTIuHZr62Z"
      },
      "execution_count": null,
      "outputs": []
    }
  ],
  "metadata": {
    "kernelspec": {
      "display_name": "Python 3",
      "language": "python",
      "name": "python3"
    },
    "language_info": {
      "codemirror_mode": {
        "name": "ipython",
        "version": 3
      },
      "file_extension": ".py",
      "mimetype": "text/x-python",
      "name": "python",
      "nbconvert_exporter": "python",
      "pygments_lexer": "ipython3",
      "version": "3.8.5"
    },
    "colab": {
      "name": "05_標準ライブラリの利用 (math / random / calendar).ipynb",
      "provenance": [],
      "collapsed_sections": [],
      "include_colab_link": true
    }
  },
  "nbformat": 4,
  "nbformat_minor": 0
}